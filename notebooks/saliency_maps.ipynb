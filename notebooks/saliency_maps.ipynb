{
 "cells": [
  {
   "cell_type": "markdown",
   "metadata": {},
   "source": [
    "# Saliency map for MF974418_1_Crotalus_atrox\n",
    "\n",
    "- Gradients: Partial derivatives of the output with respect to input features\n",
    "- Saliencies: Derived importance measures often based on gradients"
   ]
  },
  {
   "cell_type": "code",
   "execution_count": 1,
   "metadata": {},
   "outputs": [],
   "source": [
    "import numpy as np"
   ]
  },
  {
   "cell_type": "code",
   "execution_count": 2,
   "metadata": {},
   "outputs": [
    {
     "name": "stdout",
     "output_type": "stream",
     "text": [
      "(122, 20, 2560)\n"
     ]
    }
   ],
   "source": [
    "saliency_map = np.load('../output_c_atrox/MF974418_1_Crotalus_atrox_saliency.npy')\n",
    "print(saliency_map.shape)"
   ]
  },
  {
   "cell_type": "code",
   "execution_count": 3,
   "metadata": {},
   "outputs": [
    {
     "data": {
      "text/plain": [
       "array([[0.13022904, 0.01327325, 0.02823179, ..., 0.0680813 , 0.05770273,\n",
       "        0.09232409],\n",
       "       [0.09533709, 0.0301348 , 0.05030434, ..., 0.06476049, 0.03788453,\n",
       "        0.10734852],\n",
       "       [0.11689086, 0.01884253, 0.0443464 , ..., 0.05808348, 0.05051094,\n",
       "        0.10167618],\n",
       "       ...,\n",
       "       [0.13128738, 0.00361724, 0.11111882, ..., 0.06084758, 0.0995035 ,\n",
       "        0.06273454],\n",
       "       [0.10972849, 0.01102298, 0.05026603, ..., 0.06959357, 0.05160882,\n",
       "        0.08606771],\n",
       "       [0.11513422, 0.01747751, 0.06242976, ..., 0.05949955, 0.08072774,\n",
       "        0.09000763]], shape=(20, 2560))"
      ]
     },
     "execution_count": 3,
     "metadata": {},
     "output_type": "execute_result"
    }
   ],
   "source": [
    "saliency_map[0]"
   ]
  },
  {
   "cell_type": "code",
   "execution_count": 4,
   "metadata": {},
   "outputs": [
    {
     "data": {
      "text/plain": [
       "(20, 2560)"
      ]
     },
     "execution_count": 4,
     "metadata": {},
     "output_type": "execute_result"
    }
   ],
   "source": [
    "saliency_map[0].shape"
   ]
  },
  {
   "cell_type": "code",
   "execution_count": 5,
   "metadata": {},
   "outputs": [
    {
     "name": "stdout",
     "output_type": "stream",
     "text": [
      "SLVQFETLIMKIAGRSGLLWYSAYGCYCGWGGHGLPQDATDRCCFVHDCCYGKATDCNPKTVSYTYSEENGEIICGGDDPCGTQICECDKAAAICFRDNIPSYDNKYWLFPPKNCREEPEPC\n"
     ]
    }
   ],
   "source": [
    "# load the sequence from the fasta file \n",
    "fasta_path = '../data/MF974418_1_Crotalus_atrox.fasta'\n",
    "with open(fasta_path) as f: \n",
    "    fasta = f.readlines()\n",
    "    sequence = ''.join(fasta[1:]).replace('\\n', '')\n",
    "print(sequence)"
   ]
  },
  {
   "cell_type": "code",
   "execution_count": 6,
   "metadata": {},
   "outputs": [],
   "source": [
    "# Check where all elements in the third dimension (=gradients) are zero\n",
    "all_zero = np.all(saliency_map == 0, axis=2)\n",
    "zero_indices = np.argwhere(all_zero)"
   ]
  },
  {
   "cell_type": "code",
   "execution_count": 7,
   "metadata": {},
   "outputs": [
    {
     "name": "stdout",
     "output_type": "stream",
     "text": [
      "0 122\n"
     ]
    }
   ],
   "source": [
    "alphabet = \"ACDEFGHIKLMNPQRSTVWY\"\n",
    "# check whether for these pairs (x,y), the sequence[x] is equal to alphabet[y]\n",
    "not_equal = 0\n",
    "equal = 0   \n",
    "for i, j in zero_indices:\n",
    "    if sequence[i] != alphabet[j]:\n",
    "        not_equal += 1\n",
    "    else:\n",
    "        equal += 1\n",
    "print(not_equal, equal)"
   ]
  },
  {
   "cell_type": "markdown",
   "metadata": {},
   "source": [
    "Saliency map seems to be fine. \n",
    "\n",
    "Next step: Analyse it"
   ]
  },
  {
   "cell_type": "code",
   "execution_count": 22,
   "metadata": {},
   "outputs": [],
   "source": [
    "import matplotlib.pyplot as plt\n",
    "import seaborn as sns\n",
    "import pandas as pd"
   ]
  },
  {
   "cell_type": "code",
   "execution_count": null,
   "metadata": {},
   "outputs": [],
   "source": [
    "# take the average of the saliency map in the embedding dimension and in the mutation dimension\n",
    "average_saliency = np.mean(saliency_map, axis=(1, 2))\n",
    "average_saliency.shape"
   ]
  },
  {
   "cell_type": "code",
   "execution_count": null,
   "metadata": {},
   "outputs": [],
   "source": [
    "# annotate the sequence with the average saliency\n",
    "plt.figure(figsize=(20, 1))\n",
    "ax = sns.heatmap(\n",
    "    average_saliency.reshape(1, -1),\n",
    "    cmap='viridis',\n",
    "    cbar=True,\n",
    "    xticklabels=list(sequence),\n",
    "    yticklabels=False\n",
    ")\n",
    "\n",
    "# Adjust the color bar label\n",
    "colorbar = ax.collections[0].colorbar\n",
    "colorbar.set_label('Average Saliency', rotation=270, labelpad=20)\n",
    "\n",
    "# Format the x-axis\n",
    "plt.xticks(rotation=90)\n",
    "plt.title(\"Annotated Sequence with Average Saliency\")\n",
    "plt.tight_layout()\n",
    "\n",
    "# Show the plot\n",
    "plt.show()"
   ]
  },
  {
   "cell_type": "code",
   "execution_count": null,
   "metadata": {},
   "outputs": [],
   "source": [
    "average_saliency.shape"
   ]
  },
  {
   "cell_type": "code",
   "execution_count": null,
   "metadata": {},
   "outputs": [],
   "source": [
    "df = pd.DataFrame({\n",
    "    \"residue\": list(sequence),\n",
    "    \"saliency\": average_saliency\n",
    "})\n",
    "df"
   ]
  },
  {
   "cell_type": "code",
   "execution_count": null,
   "metadata": {},
   "outputs": [],
   "source": [
    "# take the average of the saliency map in the embedding dimension and in the mutation dimension\n",
    "average_saliency = np.mean(saliency_map, axis=(1, 2))\n",
    "\n",
    "df = pd.DataFrame({\n",
    "    \"residue\": list(sequence),\n",
    "    \"saliency\": average_saliency\n",
    "})\n",
    "\n",
    "# boxplot grouped by residue type\n",
    "plt.figure(figsize=(12, 6))\n",
    "sns.boxplot(data=df, x=\"residue\", y=\"saliency\", order=sorted(set(sequence)), boxprops=dict(alpha=.5))\n",
    "sns.violinplot(data=df, x=\"residue\", y=\"saliency\", order=sorted(set(sequence)), inner=None, alpha=0.7)\n",
    "plt.title(\"Distribution of Average Saliency Values per Residue\", fontsize=14)\n",
    "plt.xlabel(\"Amino Acid\", fontsize=12)\n",
    "plt.ylabel(\"Average Saliency\", fontsize=12)\n",
    "plt.xticks(rotation=45, fontsize=10)\n",
    "plt.tight_layout()\n",
    "plt.show()"
   ]
  },
  {
   "cell_type": "code",
   "execution_count": null,
   "metadata": {},
   "outputs": [],
   "source": [
    "# take the average of the saliency map in the embedding dimension and in the mutation dimension\n",
    "average_saliency = np.mean(saliency_map, axis=(1, 2))\n",
    "\n",
    "df = pd.DataFrame({\n",
    "    \"residue\": list(sequence),\n",
    "    \"saliency\": average_saliency\n",
    "})\n",
    "\n",
    "# boxplot grouped by residue type\n",
    "plt.figure(figsize=(12, 6))\n",
    "sns.boxplot(data=df, x=\"residue\", y=\"saliency\", order=sorted(set(sequence)), boxprops=dict(alpha=.5))\n",
    "sns.violinplot(data=df, x=\"residue\", y=\"saliency\", order=sorted(set(sequence)), inner=None, alpha=0.7)\n",
    "plt.title(\"Distribution of Average Saliency Values per Residue\", fontsize=14)\n",
    "plt.xlabel(\"Amino Acid\", fontsize=12)\n",
    "plt.ylabel(\"Average Saliency\", fontsize=12)\n",
    "plt.xticks(rotation=45, fontsize=10)\n",
    "plt.tight_layout()\n",
    "plt.show()"
   ]
  }
 ],
 "metadata": {
  "kernelspec": {
   "display_name": "base",
   "language": "python",
   "name": "python3"
  },
  "language_info": {
   "codemirror_mode": {
    "name": "ipython",
    "version": 3
   },
   "file_extension": ".py",
   "mimetype": "text/x-python",
   "name": "python",
   "nbconvert_exporter": "python",
   "pygments_lexer": "ipython3",
   "version": "3.12.2"
  }
 },
 "nbformat": 4,
 "nbformat_minor": 2
}
