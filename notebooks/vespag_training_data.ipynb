{
 "cells": [
  {
   "cell_type": "markdown",
   "metadata": {},
   "source": [
    "# Look into the VespaG Training data"
   ]
  },
  {
   "cell_type": "code",
   "execution_count": 1,
   "metadata": {},
   "outputs": [],
   "source": [
    "from Bio import SeqIO\n",
    "import pandas as pd"
   ]
  },
  {
   "cell_type": "code",
   "execution_count": 2,
   "metadata": {},
   "outputs": [
    {
     "name": "stdout",
     "output_type": "stream",
     "text": [
      "(5305, 2)\n"
     ]
    },
    {
     "data": {
      "text/html": [
       "<div>\n",
       "<style scoped>\n",
       "    .dataframe tbody tr th:only-of-type {\n",
       "        vertical-align: middle;\n",
       "    }\n",
       "\n",
       "    .dataframe tbody tr th {\n",
       "        vertical-align: top;\n",
       "    }\n",
       "\n",
       "    .dataframe thead th {\n",
       "        text-align: right;\n",
       "    }\n",
       "</style>\n",
       "<table border=\"1\" class=\"dataframe\">\n",
       "  <thead>\n",
       "    <tr style=\"text-align: right;\">\n",
       "      <th></th>\n",
       "      <th>id</th>\n",
       "      <th>seq</th>\n",
       "    </tr>\n",
       "  </thead>\n",
       "  <tbody>\n",
       "    <tr>\n",
       "      <th>0</th>\n",
       "      <td>A0A075B6R0</td>\n",
       "      <td>MQWALAVLLAFLSPASQKSSNLEGRTKSVIRQTGSSAEITCDLAEG...</td>\n",
       "    </tr>\n",
       "    <tr>\n",
       "      <th>1</th>\n",
       "      <td>A0A075B6R2</td>\n",
       "      <td>MKHLWFFLLLVAAPRWVLSQVQLQESGPGLVKPSGTLSLTCAVSGG...</td>\n",
       "    </tr>\n",
       "    <tr>\n",
       "      <th>2</th>\n",
       "      <td>A0A087WTH1</td>\n",
       "      <td>MEDEEKAVEILGNTEAAHPPSPIRCCWLRLRCLAATSIICGCSCLG...</td>\n",
       "    </tr>\n",
       "    <tr>\n",
       "      <th>3</th>\n",
       "      <td>A0A087WWA1</td>\n",
       "      <td>MGPSRLVRGPRPQGMRSPYRRPGMGWPRPRFPRMFKCSRRRYQQGL...</td>\n",
       "    </tr>\n",
       "    <tr>\n",
       "      <th>4</th>\n",
       "      <td>A0A087WXM9</td>\n",
       "      <td>MWPLRVYTRKKREGQRLNLTPTPDLGSPAKAEAPPGSKRKGKVHGL...</td>\n",
       "    </tr>\n",
       "  </tbody>\n",
       "</table>\n",
       "</div>"
      ],
      "text/plain": [
       "           id                                                seq\n",
       "0  A0A075B6R0  MQWALAVLLAFLSPASQKSSNLEGRTKSVIRQTGSSAEITCDLAEG...\n",
       "1  A0A075B6R2  MKHLWFFLLLVAAPRWVLSQVQLQESGPGLVKPSGTLSLTCAVSGG...\n",
       "2  A0A087WTH1  MEDEEKAVEILGNTEAAHPPSPIRCCWLRLRCLAATSIICGCSCLG...\n",
       "3  A0A087WWA1  MGPSRLVRGPRPQGMRSPYRRPGMGWPRPRFPRMFKCSRRRYQQGL...\n",
       "4  A0A087WXM9  MWPLRVYTRKKREGQRLNLTPTPDLGSPAKAEAPPGSKRKGKVHGL..."
      ]
     },
     "execution_count": 2,
     "metadata": {},
     "output_type": "execute_result"
    }
   ],
   "source": [
    "training_data_path = '/mnt/f/nicole/vespag_fasta_training_datasets/vespag_fasta_training_datasets/seq_human5k.fasta'\n",
    "\n",
    "def load_fasta(fasta_file):\n",
    "    sequences = []\n",
    "    for record in SeqIO.parse(fasta_file, \"fasta\"):\n",
    "        sequences.append({'id': record.id, 'seq': str(record.seq)})\n",
    "    sequences = pd.DataFrame(sequences)\n",
    "    return sequences\n",
    "\n",
    "sequences = load_fasta(training_data_path)\n",
    "print(sequences.shape)\n",
    "sequences.head()"
   ]
  },
  {
   "cell_type": "code",
   "execution_count": 3,
   "metadata": {},
   "outputs": [
    {
     "data": {
      "text/plain": [
       "(5281, 3)"
      ]
     },
     "execution_count": 3,
     "metadata": {},
     "output_type": "execute_result"
    }
   ],
   "source": [
    "# how many sequences have a length smaller than 1.000?\n",
    "sequences['length'] = sequences['seq'].apply(len)\n",
    "sequences[sequences['length'] < 1000].shape"
   ]
  },
  {
   "cell_type": "code",
   "execution_count": 4,
   "metadata": {},
   "outputs": [
    {
     "data": {
      "text/plain": [
       "<Axes: >"
      ]
     },
     "execution_count": 4,
     "metadata": {},
     "output_type": "execute_result"
    },
    {
     "data": {
      "image/png": "[encoded data removed]",
      "text/plain": [
       "<Figure size 640x480 with 1 Axes>"
      ]
     },
     "metadata": {},
     "output_type": "display_data"
    }
   ],
   "source": [
    "sequences.length.hist(bins=100)"
   ]
  },
  {
   "cell_type": "markdown",
   "metadata": {},
   "source": [
    "## Use the VespaG training set as a training set for downstream tasks on the selected dimensions"
   ]
  },
  {
   "cell_type": "code",
   "execution_count": 6,
   "metadata": {},
   "outputs": [
    {
     "data": {
      "text/html": [
       "<div>\n",
       "<style scoped>\n",
       "    .dataframe tbody tr th:only-of-type {\n",
       "        vertical-align: middle;\n",
       "    }\n",
       "\n",
       "    .dataframe tbody tr th {\n",
       "        vertical-align: top;\n",
       "    }\n",
       "\n",
       "    .dataframe thead th {\n",
       "        text-align: right;\n",
       "    }\n",
       "</style>\n",
       "<table border=\"1\" class=\"dataframe\">\n",
       "  <thead>\n",
       "    <tr style=\"text-align: right;\">\n",
       "      <th></th>\n",
       "      <th>id</th>\n",
       "      <th>seq</th>\n",
       "      <th>length</th>\n",
       "    </tr>\n",
       "  </thead>\n",
       "  <tbody>\n",
       "    <tr>\n",
       "      <th>3454</th>\n",
       "      <td>Q8WV19</td>\n",
       "      <td>MEKLRRVLSGQDDEEQGLTAQVLDASSLSFNTRLKWFAICFVCGVF...</td>\n",
       "      <td>159</td>\n",
       "    </tr>\n",
       "    <tr>\n",
       "      <th>4251</th>\n",
       "      <td>Q9BXQ6</td>\n",
       "      <td>MRPALGHPRSVSSASGSFPPPPAAARLQPLFLRGGSFRGRRGSGDS...</td>\n",
       "      <td>578</td>\n",
       "    </tr>\n",
       "    <tr>\n",
       "      <th>2030</th>\n",
       "      <td>Q494V2</td>\n",
       "      <td>MSEIPSTIVSKNMTNDKNSLESMNISSSSSTEENPKKQARKNEEHG...</td>\n",
       "      <td>611</td>\n",
       "    </tr>\n",
       "    <tr>\n",
       "      <th>3337</th>\n",
       "      <td>Q8TAT8</td>\n",
       "      <td>MTERRRALSLAAVVDSINLACVVVSRDWLSLVPAFFYSPPPGGSFS...</td>\n",
       "      <td>98</td>\n",
       "    </tr>\n",
       "    <tr>\n",
       "      <th>3153</th>\n",
       "      <td>Q8N8Q3</td>\n",
       "      <td>MALEAAGGPPEETLSLWKREQARLKAHVVDRDTEAWQRDPAFSGLQ...</td>\n",
       "      <td>282</td>\n",
       "    </tr>\n",
       "  </tbody>\n",
       "</table>\n",
       "</div>"
      ],
      "text/plain": [
       "          id                                                seq  length\n",
       "3454  Q8WV19  MEKLRRVLSGQDDEEQGLTAQVLDASSLSFNTRLKWFAICFVCGVF...     159\n",
       "4251  Q9BXQ6  MRPALGHPRSVSSASGSFPPPPAAARLQPLFLRGGSFRGRRGSGDS...     578\n",
       "2030  Q494V2  MSEIPSTIVSKNMTNDKNSLESMNISSSSSTEENPKKQARKNEEHG...     611\n",
       "3337  Q8TAT8  MTERRRALSLAAVVDSINLACVVVSRDWLSLVPAFFYSPPPGGSFS...      98\n",
       "3153  Q8N8Q3  MALEAAGGPPEETLSLWKREQARLKAHVVDRDTEAWQRDPAFSGLQ...     282"
      ]
     },
     "execution_count": 6,
     "metadata": {},
     "output_type": "execute_result"
    }
   ],
   "source": [
    "# create a smaller training dataset that I can use for quick testing\n",
    "small_set = sequences.sample(500)\n",
    "small_set.head()"
   ]
  },
  {
   "cell_type": "code",
   "execution_count": 14,
   "metadata": {},
   "outputs": [],
   "source": [
    "# generate batches of 1000 sequences\n",
    "batch_size = 1000\n",
    "\n",
    "for i in range(0, len(sequences), batch_size):\n",
    "    batch = sequences[i:i+batch_size]\n",
    "    file_path = f'/mnt/f/nicole/human5k/seq_human{i}.fasta'\n",
    "    with open(file_path, 'w') as f:\n",
    "        for index, row in batch.iterrows():\n",
    "            f.write(f'>{row.id}\\n{row.seq}\\n')"
   ]
  },
  {
   "cell_type": "code",
   "execution_count": null,
   "metadata": {},
   "outputs": [],
   "source": []
  }
 ],
 "metadata": {
  "kernelspec": {
   "display_name": "base",
   "language": "python",
   "name": "python3"
  },
  "language_info": {
   "codemirror_mode": {
    "name": "ipython",
    "version": 3
   },
   "file_extension": ".py",
   "mimetype": "text/x-python",
   "name": "python",
   "nbconvert_exporter": "python",
   "pygments_lexer": "ipython3",
   "version": "3.12.2"
  }
 },
 "nbformat": 4,
 "nbformat_minor": 2
}
